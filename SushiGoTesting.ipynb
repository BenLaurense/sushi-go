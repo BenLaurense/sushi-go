{
 "cells": [
  {
   "cell_type": "code",
   "execution_count": 2,
   "id": "9f61be08",
   "metadata": {},
   "outputs": [
    {
     "ename": "ModuleNotFoundError",
     "evalue": "No module named 'gameboard'",
     "output_type": "error",
     "traceback": [
      "\u001b[1;31m---------------------------------------------------------------------------\u001b[0m",
      "\u001b[1;31mModuleNotFoundError\u001b[0m                       Traceback (most recent call last)",
      "Input \u001b[1;32mIn [2]\u001b[0m, in \u001b[0;36m<cell line: 5>\u001b[1;34m()\u001b[0m\n\u001b[0;32m      1\u001b[0m \u001b[38;5;28;01mimport\u001b[39;00m \u001b[38;5;21;01msys\u001b[39;00m\n\u001b[0;32m      2\u001b[0m \u001b[38;5;66;03m# sys.path.append(\"C:/Users/benla/Desktop/Coding Projects/SushiGoParty/Game\")\u001b[39;00m\n\u001b[0;32m      3\u001b[0m \u001b[38;5;66;03m# sys.path.append(\"C:/Users/benla/Desktop/Coding Projects/SushiGoParty/Cards\")\u001b[39;00m\n\u001b[1;32m----> 5\u001b[0m \u001b[38;5;28;01mimport\u001b[39;00m \u001b[38;5;21;01mgameboard\u001b[39;00m\n\u001b[0;32m      6\u001b[0m \u001b[38;5;28;01mfrom\u001b[39;00m \u001b[38;5;21;01mgame_parameters\u001b[39;00m \u001b[38;5;28;01mimport\u001b[39;00m test_card_types, test_counts\n",
      "\u001b[1;31mModuleNotFoundError\u001b[0m: No module named 'gameboard'"
     ]
    }
   ],
   "source": [
    "import sys\n",
    "# sys.path.append(\"C:/Users/benla/Desktop/Coding Projects/SushiGoParty/Game\")\n",
    "# sys.path.append(\"C:/Users/benla/Desktop/Coding Projects/SushiGoParty/Cards\")\n",
    "\n",
    "import gameboard\n",
    "from game_parameters import test_card_types, test_counts"
   ]
  },
  {
   "cell_type": "code",
   "execution_count": null,
   "id": "f800d39b",
   "metadata": {},
   "outputs": [],
   "source": [
    "G = gameboard.Gameboard(test_card_types, test_counts)\n",
    "\n",
    "G.play_turn()"
   ]
  },
  {
   "cell_type": "code",
   "execution_count": null,
   "id": "41ff63f9",
   "metadata": {},
   "outputs": [],
   "source": []
  }
 ],
 "metadata": {
  "kernelspec": {
   "display_name": "Python 3 (ipykernel)",
   "language": "python",
   "name": "python3"
  },
  "language_info": {
   "codemirror_mode": {
    "name": "ipython",
    "version": 3
   },
   "file_extension": ".py",
   "mimetype": "text/x-python",
   "name": "python",
   "nbconvert_exporter": "python",
   "pygments_lexer": "ipython3",
   "version": "3.10.6"
  }
 },
 "nbformat": 4,
 "nbformat_minor": 5
}
